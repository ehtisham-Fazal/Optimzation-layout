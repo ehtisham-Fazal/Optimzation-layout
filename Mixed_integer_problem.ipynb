{
 "cells": [
  {
   "cell_type": "code",
   "execution_count": 2,
   "id": "23bdecaa",
   "metadata": {},
   "outputs": [],
   "source": [
    "from gurobipy import *"
   ]
  },
  {
   "cell_type": "code",
   "execution_count": 6,
   "id": "615f1f54",
   "metadata": {},
   "outputs": [],
   "source": [
    "milp_model=Model(\"MILP\")"
   ]
  },
  {
   "cell_type": "code",
   "execution_count": 10,
   "id": "7f007464",
   "metadata": {},
   "outputs": [],
   "source": [
    "x=milp_model.addVar(vtype=GRB.BINARY, name=\"x\")\n",
    "y=milp_model.addVar(vtype=GRB.CONTINUOUS , name=\"y\")\n",
    "z= milp_model.addVar(vtype= GRB.INTEGER , name =\"z\")"
   ]
  },
  {
   "cell_type": "code",
   "execution_count": 12,
   "id": "d0f647bc",
   "metadata": {},
   "outputs": [],
   "source": [
    "objective_fn=  2*x + y + 3*z"
   ]
  },
  {
   "cell_type": "code",
   "execution_count": 13,
   "id": "0f57365b",
   "metadata": {},
   "outputs": [],
   "source": [
    "milp_model.setObjective(objective_fn, GRB.MAXIMIZE)"
   ]
  },
  {
   "cell_type": "code",
   "execution_count": 20,
   "id": "ca97c3c4",
   "metadata": {},
   "outputs": [],
   "source": [
    "con_1= milp_model.addConstr( x + 2*y + z <= 4, \"c1\")\n",
    "con_2=milp_model.addConstr(2*z + y <= 5, \"c2\")\n",
    "con_3=milp_model.addConstr( x + y >= 1,\"c3\")"
   ]
  },
  {
   "cell_type": "code",
   "execution_count": 21,
   "id": "2a3e34b9",
   "metadata": {},
   "outputs": [
    {
     "name": "stdout",
     "output_type": "stream",
     "text": [
      "Gurobi Optimizer version 10.0.1 build v10.0.1rc0 (win64)\n",
      "\n",
      "CPU model: Intel(R) Core(TM) i7-7820HQ CPU @ 2.90GHz, instruction set [SSE2|AVX|AVX2]\n",
      "Thread count: 4 physical cores, 8 logical processors, using up to 8 threads\n",
      "\n",
      "Optimize a model with 9 rows, 5 columns and 22 nonzeros\n",
      "Model fingerprint: 0x93f1460c\n",
      "Variable types: 1 continuous, 4 integer (3 binary)\n",
      "Coefficient statistics:\n",
      "  Matrix range     [1e+00, 2e+00]\n",
      "  Objective range  [1e+00, 3e+00]\n",
      "  Bounds range     [1e+00, 1e+00]\n",
      "  RHS range        [1e+00, 5e+00]\n",
      "\n",
      "MIP start from previous solve did not produce a new incumbent solution\n",
      "MIP start from previous solve violates constraint c2 by 1.000000000\n",
      "\n",
      "Found heuristic solution: objective 3.5000000\n",
      "Presolve removed 9 rows and 5 columns\n",
      "Presolve time: 0.00s\n",
      "Presolve: All rows and columns removed\n",
      "\n",
      "Explored 0 nodes (0 simplex iterations) in 0.02 seconds (0.00 work units)\n",
      "Thread count was 1 (of 8 available processors)\n",
      "\n",
      "Solution count 2: 8.5 3.5 \n",
      "\n",
      "Optimal solution found (tolerance 1.00e-04)\n",
      "Best objective 8.500000000000e+00, best bound 8.500000000000e+00, gap 0.0000%\n"
     ]
    }
   ],
   "source": [
    "milp_model.optimize()"
   ]
  },
  {
   "cell_type": "code",
   "execution_count": 22,
   "id": "e2b1cc25",
   "metadata": {},
   "outputs": [
    {
     "name": "stdout",
     "output_type": "stream",
     "text": [
      "output is 8.5\n"
     ]
    }
   ],
   "source": [
    "print(\"output is {}\".format(milp_model.ObjVal))"
   ]
  },
  {
   "cell_type": "code",
   "execution_count": 30,
   "id": "ed8e3ebb",
   "metadata": {},
   "outputs": [
    {
     "name": "stdout",
     "output_type": "stream",
     "text": [
      "('x', 0.0)\n",
      "('x', 0.0)\n",
      "('x', 1.0)\n",
      "('y', 0.5)\n",
      "('z', 2.0)\n"
     ]
    }
   ],
   "source": [
    "for val in milp_model.getVars():\n",
    "    print((val.VarName,val.x))"
   ]
  },
  {
   "cell_type": "code",
   "execution_count": null,
   "id": "8f67e147",
   "metadata": {},
   "outputs": [],
   "source": []
  }
 ],
 "metadata": {
  "kernelspec": {
   "display_name": "Python 3 (ipykernel)",
   "language": "python",
   "name": "python3"
  },
  "language_info": {
   "codemirror_mode": {
    "name": "ipython",
    "version": 3
   },
   "file_extension": ".py",
   "mimetype": "text/x-python",
   "name": "python",
   "nbconvert_exporter": "python",
   "pygments_lexer": "ipython3",
   "version": "3.9.13"
  }
 },
 "nbformat": 4,
 "nbformat_minor": 5
}
