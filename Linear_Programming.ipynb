{
 "cells": [
  {
   "cell_type": "code",
   "execution_count": 4,
   "id": "49c2ec7d",
   "metadata": {},
   "outputs": [
    {
     "name": "stdout",
     "output_type": "stream",
     "text": [
      "Restricted license - for non-production use only - expires 2024-10-28\n"
     ]
    },
    {
     "data": {
      "text/plain": [
       "<gurobi.Model Continuous instance Unnamed: 0 constrs, 0 vars, No parameter changes>"
      ]
     },
     "execution_count": 4,
     "metadata": {},
     "output_type": "execute_result"
    }
   ],
   "source": [
    "from gurobipy import *\n"
   ]
  },
  {
   "cell_type": "code",
   "execution_count": 5,
   "id": "93ab11d8",
   "metadata": {},
   "outputs": [],
   "source": [
    "opt_model=Model(name=\"LP\")"
   ]
  },
  {
   "cell_type": "code",
   "execution_count": 22,
   "id": "4f43328d",
   "metadata": {},
   "outputs": [],
   "source": [
    "x=opt_model.addVar(name= \"x_\", vtype= GRB.CONTINUOUS , lb=0)\n",
    "y=opt_model.addVar(name=\"y_\" , vtype=GRB.CONTINUOUS , lb=0)"
   ]
  },
  {
   "cell_type": "code",
   "execution_count": 41,
   "id": "ecb1c737",
   "metadata": {},
   "outputs": [],
   "source": [
    "objective_fn= 5*x +4*y"
   ]
  },
  {
   "cell_type": "code",
   "execution_count": 43,
   "id": "cead3989",
   "metadata": {},
   "outputs": [],
   "source": [
    "opt_model.setObjective(objective_fn, GRB.MINIMIZE)"
   ]
  },
  {
   "cell_type": "code",
   "execution_count": 44,
   "id": "c5b226d2",
   "metadata": {},
   "outputs": [],
   "source": [
    "con_1= opt_model.addConstr( x + y >= 8 , name=\"con_1\")\n",
    "con_2= opt_model.addConstr( 2*x + y >=10 , name= \"con_2\")\n",
    "con_3= opt_model.addConstr( x + 4*y >=0,name=\"con_3\")"
   ]
  },
  {
   "cell_type": "code",
   "execution_count": 45,
   "id": "31539a12",
   "metadata": {},
   "outputs": [
    {
     "name": "stdout",
     "output_type": "stream",
     "text": [
      "Gurobi Optimizer version 10.0.1 build v10.0.1rc0 (win64)\n",
      "\n",
      "CPU model: Intel(R) Core(TM) i7-7820HQ CPU @ 2.90GHz, instruction set [SSE2|AVX|AVX2]\n",
      "Thread count: 4 physical cores, 8 logical processors, using up to 8 threads\n",
      "\n",
      "Optimize a model with 13 rows, 7 columns and 26 nonzeros\n",
      "Coefficient statistics:\n",
      "  Matrix range     [1e+00, 4e+00]\n",
      "  Objective range  [4e+00, 5e+00]\n",
      "  Bounds range     [0e+00, 0e+00]\n",
      "  RHS range        [8e+00, 1e+01]\n",
      "Iteration    Objective       Primal Inf.    Dual Inf.      Time\n",
      "       0    3.4000000e+01   0.000000e+00   0.000000e+00      0s\n",
      "\n",
      "Solved in 0 iterations and 0.01 seconds (0.00 work units)\n",
      "Optimal objective  3.400000000e+01\n"
     ]
    }
   ],
   "source": [
    "opt_model.optimize()"
   ]
  },
  {
   "cell_type": "code",
   "execution_count": 46,
   "id": "811a8f3b",
   "metadata": {},
   "outputs": [],
   "source": [
    "opt_model.write(\"LP.rlp\")"
   ]
  },
  {
   "cell_type": "code",
   "execution_count": 31,
   "id": "c4f671ff",
   "metadata": {},
   "outputs": [
    {
     "name": "stdout",
     "output_type": "stream",
     "text": [
      "output is 34.0\n"
     ]
    }
   ],
   "source": [
    "print(\"output is {}\".format(opt_model.ObjVal))"
   ]
  },
  {
   "cell_type": "code",
   "execution_count": 40,
   "id": "2c7c4042",
   "metadata": {},
   "outputs": [
    {
     "name": "stdout",
     "output_type": "stream",
     "text": [
      "('x', 0.0)\n",
      "('x', 0.0)\n",
      "('y', 0.0)\n",
      "('x', 2.0)\n",
      "('y', 6.0)\n",
      "('x_', 2.0)\n",
      "('y_', 6.0)\n"
     ]
    }
   ],
   "source": [
    "for value in opt_model.getVars():\n",
    "    print((value.varName,value.x))"
   ]
  },
  {
   "cell_type": "code",
   "execution_count": null,
   "id": "f1c6a2a1",
   "metadata": {},
   "outputs": [],
   "source": []
  }
 ],
 "metadata": {
  "kernelspec": {
   "display_name": "Python 3 (ipykernel)",
   "language": "python",
   "name": "python3"
  },
  "language_info": {
   "codemirror_mode": {
    "name": "ipython",
    "version": 3
   },
   "file_extension": ".py",
   "mimetype": "text/x-python",
   "name": "python",
   "nbconvert_exporter": "python",
   "pygments_lexer": "ipython3",
   "version": "3.9.13"
  }
 },
 "nbformat": 4,
 "nbformat_minor": 5
}
